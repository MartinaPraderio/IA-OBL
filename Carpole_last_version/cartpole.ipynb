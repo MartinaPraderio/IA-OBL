{
 "cells": [
  {
   "cell_type": "code",
   "execution_count": 2,
   "id": "9f1c3938",
   "metadata": {},
   "outputs": [
    {
     "name": "stdout",
     "output_type": "stream",
     "text": [
      "Requirement already satisfied: gym in /Users/martina/opt/anaconda3/envs/gym/lib/python3.10/site-packages (0.25.1)\n",
      "Requirement already satisfied: numpy>=1.18.0 in /Users/martina/opt/anaconda3/envs/gym/lib/python3.10/site-packages (from gym) (1.23.1)\n",
      "Requirement already satisfied: gym-notices>=0.0.4 in /Users/martina/opt/anaconda3/envs/gym/lib/python3.10/site-packages (from gym) (0.0.8)\n",
      "Requirement already satisfied: cloudpickle>=1.2.0 in /Users/martina/opt/anaconda3/envs/gym/lib/python3.10/site-packages (from gym) (2.1.0)\n",
      "Collecting pygame\n",
      "  Downloading pygame-2.1.2-cp310-cp310-macosx_10_9_x86_64.whl (8.9 MB)\n",
      "\u001b[2K     \u001b[90m━━━━━━━━━━━━━━━━━━━━━━━━━━━━━━━━━━━━━━━━\u001b[0m \u001b[32m8.9/8.9 MB\u001b[0m \u001b[31m9.0 MB/s\u001b[0m eta \u001b[36m0:00:00\u001b[0m00:01\u001b[0m00:01\u001b[0m\n",
      "\u001b[?25hInstalling collected packages: pygame\n",
      "Successfully installed pygame-2.1.2\n"
     ]
    }
   ],
   "source": [
    "!pip install gym\n",
    "!pip install pygame"
   ]
  },
  {
   "cell_type": "code",
   "execution_count": 3,
   "id": "e4231adb",
   "metadata": {},
   "outputs": [],
   "source": [
    "import gym\n",
    "import numpy as np"
   ]
  },
  {
   "cell_type": "code",
   "execution_count": 4,
   "id": "a39e4569",
   "metadata": {},
   "outputs": [
    {
     "name": "stderr",
     "output_type": "stream",
     "text": [
      "/Users/martina/opt/anaconda3/envs/gym/lib/python3.10/site-packages/gym/core.py:329: DeprecationWarning: \u001b[33mWARN: Initializing wrapper in old step API which returns one bool instead of two. It is recommended to set `new_step_api=True` to use new step API. This will be the default behaviour in future.\u001b[0m\n",
      "  deprecation(\n",
      "/Users/martina/opt/anaconda3/envs/gym/lib/python3.10/site-packages/gym/wrappers/step_api_compatibility.py:39: DeprecationWarning: \u001b[33mWARN: Initializing environment in old step API which returns one bool instead of two. It is recommended to set `new_step_api=True` to use new step API. This will be the default behaviour in future.\u001b[0m\n",
      "  deprecation(\n"
     ]
    }
   ],
   "source": [
    "env = gym.make('CartPole-v1', render_mode='human')"
   ]
  },
  {
   "cell_type": "code",
   "execution_count": 5,
   "id": "4a591fcb",
   "metadata": {},
   "outputs": [],
   "source": [
    "def epsilon_greedy_policy(state, Q, epsilon=0.1):\n",
    "    explore = np.random.binomial(1, epsilon)\n",
    "    if explore:\n",
    "        action = env.action_space.sample()\n",
    "        print('explore')\n",
    "    else:\n",
    "        action = np.argmax(Q[state])\n",
    "        print('exploit')\n",
    "    return action"
   ]
  },
  {
   "cell_type": "code",
   "execution_count": 6,
   "id": "92a08789",
   "metadata": {},
   "outputs": [],
   "source": [
    "def optimal_policy(state, Q):\n",
    "    action = np.argmax(Q[state])\n",
    "    return action"
   ]
  },
  {
   "cell_type": "code",
   "execution_count": 12,
   "id": "00564955",
   "metadata": {},
   "outputs": [],
   "source": [
    "bins_cart_position = np.logspace(-4.8, 4.8, 2)\n",
    "bins_cart_velocity = np.linspace(-1, 1, 2)\n",
    "bins_pole_angle = np.logspace(-0.2095, 0.2095, 2)\n",
    "bins_pole_angle_velocity = np.linspace(-1,1,2)"
   ]
  },
  {
   "cell_type": "code",
   "execution_count": 25,
   "id": "345c50b5",
   "metadata": {},
   "outputs": [],
   "source": [
    "def get_state(obs):\n",
    "    state_bins_cart_position = np.digitize(obs[0], bins_cart_position)\n",
    "    state_bins_cart_velocity= np.digitize(obs[1], bins_cart_velocity)\n",
    "    state_bins_pole_angle = np.digitize(obs[2], bins_pole_angle)\n",
    "    state_pole_angle_velocity = np.digitize(obs[3], bins_pole_angle_velocity)\n",
    "\n",
    "    state = state_bins_cart_position, state_bins_cart_velocity, state_bins_pole_angle,state_pole_angle_velocity\n",
    "    return state"
   ]
  },
  {
   "cell_type": "code",
   "execution_count": 26,
   "id": "17e0564c",
   "metadata": {},
   "outputs": [
    {
     "data": {
      "text/plain": [
       "(0, 0, 0, 2)"
      ]
     },
     "execution_count": 26,
     "metadata": {},
     "output_type": "execute_result"
    }
   ],
   "source": [
    "state = get_state([-1.4, -2., 0.23, 1.2])\n",
    "state"
   ]
  },
  {
   "cell_type": "code",
   "execution_count": 19,
   "id": "9ea75fdc",
   "metadata": {},
   "outputs": [
    {
     "name": "stdout",
     "output_type": "stream",
     "text": [
      "[[[[[0.30926953 0.37026238]\n",
      "    [0.57332174 0.05783227]]\n",
      "\n",
      "   [[0.56560201 0.31495698]\n",
      "    [0.8702623  0.41045653]]]\n",
      "\n",
      "\n",
      "  [[[0.75721603 0.77821482]\n",
      "    [0.19135944 0.8744862 ]]\n",
      "\n",
      "   [[0.62961487 0.04792157]\n",
      "    [0.45118673 0.78435251]]]]\n",
      "\n",
      "\n",
      "\n",
      " [[[[0.96068397 0.17646333]\n",
      "    [0.47832725 0.04306344]]\n",
      "\n",
      "   [[0.83661755 0.77301267]\n",
      "    [0.11736368 0.36846329]]]\n",
      "\n",
      "\n",
      "  [[[0.82540091 0.12965178]\n",
      "    [0.21317468 0.90958554]]\n",
      "\n",
      "   [[0.51421961 0.80664246]\n",
      "    [0.15616299 0.57937222]]]]]\n"
     ]
    }
   ],
   "source": [
    "Q = np.random.random((2,2,2,2,2))\n",
    "print(Q)"
   ]
  },
  {
   "cell_type": "code",
   "execution_count": 27,
   "id": "1dcb9869",
   "metadata": {},
   "outputs": [],
   "source": [
    "def updateQ( Q, state, action, reward, newState, alfa , gamma):\n",
    "    Q[state][action] = Q[state][action] + alfa*(reward + gamma*(np.max(Q[newState])) - Q[state][action])"
   ]
  },
  {
   "cell_type": "code",
   "execution_count": 40,
   "id": "5ffb00ba",
   "metadata": {},
   "outputs": [],
   "source": [
    "def play(alfa, gamma, epsilon, Q):\n",
    "    obs =env.reset()\n",
    "    #print(obs)\n",
    "    done = False\n",
    "    while not done:\n",
    "        state = get_state(obs)\n",
    "        action = epsilon_greedy_policy(state, Q, 0.5)\n",
    "        obs, reward, done, info = env.step(action)\n",
    "        updateQ(Q, state, action, reward, get_state(obs), alfa, gamma)\n",
    "        print(Q, state, action, reward, get_state(obs), alfa, gamma)\n",
    "        #print('->', state, action, reward, obs, done, info)\n",
    "    return Q\n",
    "# env.close()"
   ]
  },
  {
   "cell_type": "code",
   "execution_count": 41,
   "id": "c1b033ba",
   "metadata": {},
   "outputs": [
    {
     "name": "stdout",
     "output_type": "stream",
     "text": [
      "exploit\n",
      "[[[[[0.30926953 0.37026238]\n",
      "    [0.57332174 0.05783227]]\n",
      "\n",
      "   [[0.56560201 0.31495698]\n",
      "    [0.8702623  0.41045653]]]\n",
      "\n",
      "\n",
      "  [[[0.75721603 0.77821482]\n",
      "    [0.19135944 1.73284704]]\n",
      "\n",
      "   [[0.62961487 0.04792157]\n",
      "    [0.45118673 0.78435251]]]]\n",
      "\n",
      "\n",
      "\n",
      " [[[[0.96068397 0.17646333]\n",
      "    [0.47832725 0.04306344]]\n",
      "\n",
      "   [[0.83661755 0.77301267]\n",
      "    [0.11736368 0.36846329]]]\n",
      "\n",
      "\n",
      "  [[[0.82540091 0.12965178]\n",
      "    [0.21317468 1.64586014]]\n",
      "\n",
      "   [[0.51421961 0.80664246]\n",
      "    [0.15616299 0.57937222]]]]] (1, 1, 0, 1) 1 1.0 (1, 1, 0, 1) 0.9 0.8\n",
      "-> (1, 1, 0, 1) 1 1.0 [ 0.0471743   0.19719216 -0.00090343 -0.2831617 ] False {}\n",
      "explore\n",
      "[[[[[0.30926953 0.37026238]\n",
      "    [0.57332174 0.05783227]]\n",
      "\n",
      "   [[0.56560201 0.31495698]\n",
      "    [0.8702623  0.41045653]]]\n",
      "\n",
      "\n",
      "  [[[0.75721603 0.77821482]\n",
      "    [0.19135944 1.73284704]]\n",
      "\n",
      "   [[0.62961487 0.04792157]\n",
      "    [0.45118673 0.78435251]]]]\n",
      "\n",
      "\n",
      "\n",
      " [[[[0.96068397 0.17646333]\n",
      "    [0.47832725 0.04306344]]\n",
      "\n",
      "   [[0.83661755 0.77301267]\n",
      "    [0.11736368 0.36846329]]]\n",
      "\n",
      "\n",
      "  [[[0.82540091 0.12965178]\n",
      "    [2.10633677 1.64586014]]\n",
      "\n",
      "   [[0.51421961 0.80664246]\n",
      "    [0.15616299 0.57937222]]]]] (1, 1, 0, 1) 0 1.0 (1, 1, 0, 1) 0.9 0.8\n",
      "-> (1, 1, 0, 1) 0 1.0 [ 0.05111814  0.00208311 -0.00656667  0.00923615] False {}\n",
      "exploit\n",
      "[[[[[0.30926953 0.37026238]\n",
      "    [0.57332174 0.05783227]]\n",
      "\n",
      "   [[0.56560201 0.31495698]\n",
      "    [0.8702623  0.41045653]]]\n",
      "\n",
      "\n",
      "  [[[0.75721603 0.77821482]\n",
      "    [0.19135944 1.73284704]]\n",
      "\n",
      "   [[0.62961487 0.04792157]\n",
      "    [0.45118673 0.78435251]]]]\n",
      "\n",
      "\n",
      "\n",
      " [[[[0.96068397 0.17646333]\n",
      "    [0.47832725 0.04306344]]\n",
      "\n",
      "   [[0.83661755 0.77301267]\n",
      "    [0.11736368 0.36846329]]]\n",
      "\n",
      "\n",
      "  [[[0.82540091 0.12965178]\n",
      "    [2.62719615 1.64586014]]\n",
      "\n",
      "   [[0.51421961 0.80664246]\n",
      "    [0.15616299 0.57937222]]]]] (1, 1, 0, 1) 0 1.0 (1, 1, 0, 1) 0.9 0.8\n",
      "-> (1, 1, 0, 1) 0 1.0 [ 0.05115981 -0.19294405 -0.00638194  0.29984   ] False {}\n",
      "exploit\n",
      "[[[[[0.30926953 0.37026238]\n",
      "    [0.57332174 0.05783227]]\n",
      "\n",
      "   [[0.56560201 0.31495698]\n",
      "    [0.8702623  0.41045653]]]\n",
      "\n",
      "\n",
      "  [[[0.75721603 0.77821482]\n",
      "    [0.19135944 1.73284704]]\n",
      "\n",
      "   [[0.62961487 0.04792157]\n",
      "    [0.45118673 0.78435251]]]]\n",
      "\n",
      "\n",
      "\n",
      " [[[[0.96068397 0.17646333]\n",
      "    [0.47832725 0.04306344]]\n",
      "\n",
      "   [[0.83661755 0.77301267]\n",
      "    [0.11736368 0.36846329]]]\n",
      "\n",
      "\n",
      "  [[[0.82540091 0.12965178]\n",
      "    [3.05430084 1.64586014]]\n",
      "\n",
      "   [[0.51421961 0.80664246]\n",
      "    [0.15616299 0.57937222]]]]] (1, 1, 0, 1) 0 1.0 (1, 1, 0, 1) 0.9 0.8\n",
      "-> (1, 1, 0, 1) 0 1.0 [ 4.7300924e-02 -3.8797447e-01 -3.8514429e-04  5.9050339e-01] False {}\n",
      "explore\n",
      "[[[[[0.30926953 0.37026238]\n",
      "    [0.57332174 0.05783227]]\n",
      "\n",
      "   [[0.56560201 0.31495698]\n",
      "    [0.8702623  0.41045653]]]\n",
      "\n",
      "\n",
      "  [[[0.75721603 0.77821482]\n",
      "    [0.19135944 1.73284704]]\n",
      "\n",
      "   [[0.62961487 0.04792157]\n",
      "    [0.45118673 0.78435251]]]]\n",
      "\n",
      "\n",
      "\n",
      " [[[[0.96068397 0.17646333]\n",
      "    [0.47832725 0.04306344]]\n",
      "\n",
      "   [[0.83661755 0.77301267]\n",
      "    [0.11736368 0.36846329]]]\n",
      "\n",
      "\n",
      "  [[[0.82540091 0.12965178]\n",
      "    [3.40452669 1.64586014]]\n",
      "\n",
      "   [[0.51421961 0.80664246]\n",
      "    [0.15616299 0.57937222]]]]] (1, 1, 0, 1) 0 1.0 (1, 1, 0, 1) 0.9 0.8\n",
      "-> (1, 1, 0, 1) 0 1.0 [ 0.03954143 -0.583091    0.01142492  0.8830649 ] False {}\n",
      "exploit\n"
     ]
    },
    {
     "ename": "IndexError",
     "evalue": "index 2 is out of bounds for axis 3 with size 2",
     "output_type": "error",
     "traceback": [
      "\u001b[0;31m---------------------------------------------------------------------------\u001b[0m",
      "\u001b[0;31mIndexError\u001b[0m                                Traceback (most recent call last)",
      "\u001b[1;32m/Users/martina/Downloads/Carpole_last_version/cartpole.ipynb Celda 12\u001b[0m in \u001b[0;36m<cell line: 5>\u001b[0;34m()\u001b[0m\n\u001b[1;32m      <a href='vscode-notebook-cell:/Users/martina/Downloads/Carpole_last_version/cartpole.ipynb#X14sZmlsZQ%3D%3D?line=1'>2</a>\u001b[0m gamma \u001b[39m=\u001b[39m \u001b[39m0.8\u001b[39m\n\u001b[1;32m      <a href='vscode-notebook-cell:/Users/martina/Downloads/Carpole_last_version/cartpole.ipynb#X14sZmlsZQ%3D%3D?line=2'>3</a>\u001b[0m epsilon \u001b[39m=\u001b[39m \u001b[39m0.9\u001b[39m\n\u001b[0;32m----> <a href='vscode-notebook-cell:/Users/martina/Downloads/Carpole_last_version/cartpole.ipynb#X14sZmlsZQ%3D%3D?line=4'>5</a>\u001b[0m play(alfa, gamma, epsilon, Q)\n",
      "\u001b[1;32m/Users/martina/Downloads/Carpole_last_version/cartpole.ipynb Celda 12\u001b[0m in \u001b[0;36mplay\u001b[0;34m(alfa, gamma, epsilon, Q)\u001b[0m\n\u001b[1;32m      <a href='vscode-notebook-cell:/Users/martina/Downloads/Carpole_last_version/cartpole.ipynb#X14sZmlsZQ%3D%3D?line=6'>7</a>\u001b[0m action \u001b[39m=\u001b[39m epsilon_greedy_policy(state, Q, \u001b[39m0.5\u001b[39m)\n\u001b[1;32m      <a href='vscode-notebook-cell:/Users/martina/Downloads/Carpole_last_version/cartpole.ipynb#X14sZmlsZQ%3D%3D?line=7'>8</a>\u001b[0m obs, reward, done, info \u001b[39m=\u001b[39m env\u001b[39m.\u001b[39mstep(action)\n\u001b[0;32m----> <a href='vscode-notebook-cell:/Users/martina/Downloads/Carpole_last_version/cartpole.ipynb#X14sZmlsZQ%3D%3D?line=8'>9</a>\u001b[0m updateQ(Q, state, action, reward, get_state(obs), alfa, gamma)\n\u001b[1;32m     <a href='vscode-notebook-cell:/Users/martina/Downloads/Carpole_last_version/cartpole.ipynb#X14sZmlsZQ%3D%3D?line=9'>10</a>\u001b[0m \u001b[39mprint\u001b[39m(Q, state, action, reward, get_state(obs), alfa, gamma)\n\u001b[1;32m     <a href='vscode-notebook-cell:/Users/martina/Downloads/Carpole_last_version/cartpole.ipynb#X14sZmlsZQ%3D%3D?line=10'>11</a>\u001b[0m \u001b[39mprint\u001b[39m(\u001b[39m'\u001b[39m\u001b[39m->\u001b[39m\u001b[39m'\u001b[39m, state, action, reward, obs, done, info)\n",
      "\u001b[1;32m/Users/martina/Downloads/Carpole_last_version/cartpole.ipynb Celda 12\u001b[0m in \u001b[0;36mupdateQ\u001b[0;34m(Q, state, action, reward, newState, alfa, gamma)\u001b[0m\n\u001b[1;32m      <a href='vscode-notebook-cell:/Users/martina/Downloads/Carpole_last_version/cartpole.ipynb#X14sZmlsZQ%3D%3D?line=0'>1</a>\u001b[0m \u001b[39mdef\u001b[39;00m \u001b[39mupdateQ\u001b[39m( Q, state, action, reward, newState, alfa , gamma):\n\u001b[0;32m----> <a href='vscode-notebook-cell:/Users/martina/Downloads/Carpole_last_version/cartpole.ipynb#X14sZmlsZQ%3D%3D?line=1'>2</a>\u001b[0m     Q[state][action] \u001b[39m=\u001b[39m Q[state][action] \u001b[39m+\u001b[39m alfa\u001b[39m*\u001b[39m(reward \u001b[39m+\u001b[39m gamma\u001b[39m*\u001b[39m(np\u001b[39m.\u001b[39mmax(Q[newState])) \u001b[39m-\u001b[39m Q[state][action])\n",
      "\u001b[0;31mIndexError\u001b[0m: index 2 is out of bounds for axis 3 with size 2"
     ]
    }
   ],
   "source": [
    "alfa = 0.9\n",
    "gamma = 0.8\n",
    "epsilon = 0.9\n",
    "\n",
    "play(alfa, gamma, epsilon, Q)\n",
    "\n",
    "\n"
   ]
  }
 ],
 "metadata": {
  "kernelspec": {
   "display_name": "Python 3.10.4 ('gym')",
   "language": "python",
   "name": "python3"
  },
  "language_info": {
   "codemirror_mode": {
    "name": "ipython",
    "version": 3
   },
   "file_extension": ".py",
   "mimetype": "text/x-python",
   "name": "python",
   "nbconvert_exporter": "python",
   "pygments_lexer": "ipython3",
   "version": "3.10.4"
  },
  "vscode": {
   "interpreter": {
    "hash": "bee09aa6d8dc4ac6d54b11088eba8447a352f777f3e10eb9c69ec5e4171e25b6"
   }
  }
 },
 "nbformat": 4,
 "nbformat_minor": 5
}
