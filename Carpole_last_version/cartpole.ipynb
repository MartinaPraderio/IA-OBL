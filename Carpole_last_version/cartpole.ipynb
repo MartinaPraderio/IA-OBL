{
 "cells": [
  {
   "cell_type": "code",
   "execution_count": 2,
   "id": "9f1c3938",
   "metadata": {},
   "outputs": [
    {
     "name": "stdout",
     "output_type": "stream",
     "text": [
      "Requirement already satisfied: gym in /Users/martina/opt/anaconda3/envs/gym/lib/python3.10/site-packages (0.25.1)\n",
      "Requirement already satisfied: numpy>=1.18.0 in /Users/martina/opt/anaconda3/envs/gym/lib/python3.10/site-packages (from gym) (1.23.1)\n",
      "Requirement already satisfied: gym-notices>=0.0.4 in /Users/martina/opt/anaconda3/envs/gym/lib/python3.10/site-packages (from gym) (0.0.8)\n",
      "Requirement already satisfied: cloudpickle>=1.2.0 in /Users/martina/opt/anaconda3/envs/gym/lib/python3.10/site-packages (from gym) (2.1.0)\n",
      "Collecting pygame\n",
      "  Downloading pygame-2.1.2-cp310-cp310-macosx_10_9_x86_64.whl (8.9 MB)\n",
      "\u001b[2K     \u001b[90m━━━━━━━━━━━━━━━━━━━━━━━━━━━━━━━━━━━━━━━━\u001b[0m \u001b[32m8.9/8.9 MB\u001b[0m \u001b[31m9.0 MB/s\u001b[0m eta \u001b[36m0:00:00\u001b[0m00:01\u001b[0m00:01\u001b[0m\n",
      "\u001b[?25hInstalling collected packages: pygame\n",
      "Successfully installed pygame-2.1.2\n"
     ]
    }
   ],
   "source": [
    "%pip install gym\n",
    "%pip install pygame"
   ]
  },
  {
   "cell_type": "code",
   "execution_count": 6,
   "id": "e4231adb",
   "metadata": {},
   "outputs": [],
   "source": [
    "import gym\n",
    "import numpy as np"
   ]
  },
  {
   "cell_type": "code",
   "execution_count": 7,
   "id": "a39e4569",
   "metadata": {},
   "outputs": [],
   "source": [
    "env = gym.make('CartPole-v1', render_mode='human')"
   ]
  },
  {
   "cell_type": "code",
   "execution_count": 8,
   "id": "4a591fcb",
   "metadata": {},
   "outputs": [],
   "source": [
    "def epsilon_greedy_policy(state, Q, epsilon=0.1):\n",
    "    explore = np.random.binomial(1, epsilon)\n",
    "    if explore:\n",
    "        action = env.action_space.sample()\n",
    "        print('explore')\n",
    "    else:\n",
    "        action = np.argmax(Q[state])\n",
    "        print('exploit')\n",
    "    return action"
   ]
  },
  {
   "cell_type": "code",
   "execution_count": 9,
   "id": "92a08789",
   "metadata": {},
   "outputs": [],
   "source": [
    "def optimal_policy(state, Q):\n",
    "    action = np.argmax(Q[state])\n",
    "    return action"
   ]
  },
  {
   "cell_type": "code",
   "execution_count": 10,
   "id": "00564955",
   "metadata": {},
   "outputs": [],
   "source": [
    "bins_cart_position = np.logspace(-4.8, 4.8, 2)\n",
    "bins_cart_velocity = np.linspace(-1, 1, 2)\n",
    "bins_pole_angle = np.logspace(-0.2095, 0.2095, 2)\n",
    "bins_pole_angle_velocity = np.linspace(-1,1,2)"
   ]
  },
  {
   "cell_type": "code",
   "execution_count": 11,
   "id": "345c50b5",
   "metadata": {},
   "outputs": [],
   "source": [
    "def get_state(obs):\n",
    "    state_bins_cart_position = np.digitize(obs[0], bins_cart_position)\n",
    "    state_bins_cart_velocity= np.digitize(obs[1], bins_cart_velocity)\n",
    "    state_bins_pole_angle = np.digitize(obs[2], bins_pole_angle)\n",
    "    state_pole_angle_velocity = np.digitize(obs[3], bins_pole_angle_velocity)\n",
    "\n",
    "    state = state_bins_cart_position, state_bins_cart_velocity, state_bins_pole_angle,state_pole_angle_velocity\n",
    "    return state"
   ]
  },
  {
   "cell_type": "code",
   "execution_count": 12,
   "id": "17e0564c",
   "metadata": {},
   "outputs": [
    {
     "data": {
      "text/plain": [
       "(0, 0, 0, 2)"
      ]
     },
     "execution_count": 12,
     "metadata": {},
     "output_type": "execute_result"
    }
   ],
   "source": [
    "state = get_state([-1.4, -2., 0.23, 1.2])\n",
    "state"
   ]
  },
  {
   "cell_type": "code",
   "execution_count": 13,
   "id": "9ea75fdc",
   "metadata": {},
   "outputs": [
    {
     "name": "stdout",
     "output_type": "stream",
     "text": [
      "[[[[[0.08709839 0.02345735]\n",
      "    [0.37816495 0.89625738]\n",
      "    [0.43426631 0.30020278]]\n",
      "\n",
      "   [[0.21058141 0.84842726]\n",
      "    [0.77037913 0.38467249]\n",
      "    [0.86392183 0.37334405]]\n",
      "\n",
      "   [[0.42077304 0.80088892]\n",
      "    [0.27565942 0.02931508]\n",
      "    [0.08491132 0.83013402]]]\n",
      "\n",
      "\n",
      "  [[[0.05874907 0.66304507]\n",
      "    [0.48080426 0.17643708]\n",
      "    [0.73862781 0.82280733]]\n",
      "\n",
      "   [[0.18122971 0.04445238]\n",
      "    [0.27512066 0.22424873]\n",
      "    [0.96475635 0.14647135]]\n",
      "\n",
      "   [[0.17943957 0.31326475]\n",
      "    [0.47119258 0.47520324]\n",
      "    [0.94198139 0.95264862]]]\n",
      "\n",
      "\n",
      "  [[[0.04881155 0.51547553]\n",
      "    [0.0243741  0.89698559]\n",
      "    [0.19670408 0.41275843]]\n",
      "\n",
      "   [[0.34347244 0.15155205]\n",
      "    [0.12854605 0.49807228]\n",
      "    [0.12659257 0.48282585]]\n",
      "\n",
      "   [[0.33977524 0.3567304 ]\n",
      "    [0.51785569 0.18270991]\n",
      "    [0.74201427 0.52634354]]]]\n",
      "\n",
      "\n",
      "\n",
      " [[[[0.94909529 0.92939681]\n",
      "    [0.36182182 0.99073815]\n",
      "    [0.24232641 0.60324258]]\n",
      "\n",
      "   [[0.87275813 0.7654722 ]\n",
      "    [0.34825267 0.2061521 ]\n",
      "    [0.73414347 0.90309199]]\n",
      "\n",
      "   [[0.61746196 0.84402118]\n",
      "    [0.47997074 0.47065031]\n",
      "    [0.92225283 0.79162272]]]\n",
      "\n",
      "\n",
      "  [[[0.68186688 0.5573149 ]\n",
      "    [0.31397519 0.24196377]\n",
      "    [0.75789655 0.71532556]]\n",
      "\n",
      "   [[0.31210502 0.90366214]\n",
      "    [0.952589   0.38940927]\n",
      "    [0.97154267 0.50348295]]\n",
      "\n",
      "   [[0.65869315 0.68705662]\n",
      "    [0.2657615  0.73607902]\n",
      "    [0.80832572 0.6048443 ]]]\n",
      "\n",
      "\n",
      "  [[[0.60868776 0.04217093]\n",
      "    [0.09828456 0.5662662 ]\n",
      "    [0.79578329 0.21173268]]\n",
      "\n",
      "   [[0.95924178 0.38913077]\n",
      "    [0.97403322 0.52924114]\n",
      "    [0.51780736 0.97158742]]\n",
      "\n",
      "   [[0.61737793 0.12332378]\n",
      "    [0.30144037 0.90571429]\n",
      "    [0.59160821 0.13237948]]]]\n",
      "\n",
      "\n",
      "\n",
      " [[[[0.02736295 0.98546533]\n",
      "    [0.94794342 0.24505969]\n",
      "    [0.31834105 0.48017825]]\n",
      "\n",
      "   [[0.05852808 0.21903738]\n",
      "    [0.94633199 0.89062634]\n",
      "    [0.60304553 0.52437709]]\n",
      "\n",
      "   [[0.87130085 0.15021316]\n",
      "    [0.54913887 0.29069509]\n",
      "    [0.84925352 0.99285469]]]\n",
      "\n",
      "\n",
      "  [[[0.39616086 0.07171814]\n",
      "    [0.2010756  0.54249465]\n",
      "    [0.12775178 0.96692303]]\n",
      "\n",
      "   [[0.90492814 0.93660595]\n",
      "    [0.16153288 0.96031263]\n",
      "    [0.08217912 0.18198925]]\n",
      "\n",
      "   [[0.74004505 0.00438809]\n",
      "    [0.68743561 0.77661497]\n",
      "    [0.20280725 0.27696925]]]\n",
      "\n",
      "\n",
      "  [[[0.71882425 0.65119606]\n",
      "    [0.50098174 0.39550466]\n",
      "    [0.54412366 0.49789519]]\n",
      "\n",
      "   [[0.95010937 0.48328705]\n",
      "    [0.46722755 0.29305034]\n",
      "    [0.17574317 0.78168063]]\n",
      "\n",
      "   [[0.2666023  0.87710758]\n",
      "    [0.84515028 0.0676825 ]\n",
      "    [0.73406543 0.11448081]]]]]\n"
     ]
    }
   ],
   "source": [
    "Q = np.random.random((3,3,3,3,2))\n",
    "print(Q)"
   ]
  },
  {
   "cell_type": "code",
   "execution_count": 14,
   "id": "1dcb9869",
   "metadata": {},
   "outputs": [],
   "source": [
    "def updateQ( Q, state, action, reward, newState, alfa , gamma):\n",
    "    Q[state][action] = Q[state][action] + alfa*(reward + gamma*(np.max(Q[newState])) - Q[state][action])"
   ]
  },
  {
   "cell_type": "code",
   "execution_count": 15,
   "id": "5ffb00ba",
   "metadata": {},
   "outputs": [],
   "source": [
    "def play(alfa, gamma, epsilon, Q):\n",
    "    obs =env.reset()[0]\n",
    "    #print(obs)\n",
    "    terminated = False\n",
    "    while not terminated:\n",
    "        state = get_state(obs)\n",
    "        action = epsilon_greedy_policy(state, Q, epsilon)\n",
    "        obs, reward, terminated, truncated, info = env.step(action)\n",
    "        updateQ(Q, state, action, reward, get_state(obs), alfa, gamma)\n",
    "        print(Q, state, action, reward, get_state(obs), alfa, gamma)\n",
    "        \n",
    "        #print('->', state, action, reward, obs, done, info)\n",
    "    return Q\n",
    "# env.close()"
   ]
  },
  {
   "cell_type": "code",
   "execution_count": 3,
   "id": "c1b033ba",
   "metadata": {},
   "outputs": [
    {
     "ename": "NameError",
     "evalue": "name 'Q' is not defined",
     "output_type": "error",
     "traceback": [
      "\u001b[0;31m---------------------------------------------------------------------------\u001b[0m",
      "\u001b[0;31mNameError\u001b[0m                                 Traceback (most recent call last)",
      "\u001b[1;32m/Users/topo/Desktop/ia/IA-OBL/Carpole_last_version/cartpole.ipynb Cell 12\u001b[0m in \u001b[0;36m<cell line: 5>\u001b[0;34m()\u001b[0m\n\u001b[1;32m      <a href='vscode-notebook-cell:/Users/topo/Desktop/ia/IA-OBL/Carpole_last_version/cartpole.ipynb#X14sZmlsZQ%3D%3D?line=1'>2</a>\u001b[0m gamma \u001b[39m=\u001b[39m \u001b[39m0.8\u001b[39m\n\u001b[1;32m      <a href='vscode-notebook-cell:/Users/topo/Desktop/ia/IA-OBL/Carpole_last_version/cartpole.ipynb#X14sZmlsZQ%3D%3D?line=2'>3</a>\u001b[0m epsilon \u001b[39m=\u001b[39m \u001b[39m0.9\u001b[39m\n\u001b[0;32m----> <a href='vscode-notebook-cell:/Users/topo/Desktop/ia/IA-OBL/Carpole_last_version/cartpole.ipynb#X14sZmlsZQ%3D%3D?line=4'>5</a>\u001b[0m play(alfa, gamma, epsilon, Q)\n",
      "\u001b[0;31mNameError\u001b[0m: name 'Q' is not defined"
     ]
    }
   ],
   "source": [
    "alfa = 0.9\n",
    "gamma = 0.8\n",
    "epsilon = 0.9\n",
    "\n",
    "play(alfa, gamma, epsilon, Q)\n",
    "\n",
    "\n"
   ]
  }
 ],
 "metadata": {
  "kernelspec": {
   "display_name": "base",
   "language": "python",
   "name": "python3"
  },
  "language_info": {
   "codemirror_mode": {
    "name": "ipython",
    "version": 3
   },
   "file_extension": ".py",
   "mimetype": "text/x-python",
   "name": "python",
   "nbconvert_exporter": "python",
   "pygments_lexer": "ipython3",
   "version": "3.9.12"
  },
  "vscode": {
   "interpreter": {
    "hash": "d85cf87405d2d00a299d23e6023987e22c21173e360a6923828e0492bcb6534b"
   }
  }
 },
 "nbformat": 4,
 "nbformat_minor": 5
}
